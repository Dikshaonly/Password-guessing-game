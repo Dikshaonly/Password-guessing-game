{
 "cells": [
  {
   "cell_type": "code",
   "execution_count": 3,
   "metadata": {},
   "outputs": [
    {
     "name": "stdout",
     "output_type": "stream",
     "text": [
      "Welcome to the Password Guessing Game!\n",
      "You have 5 attempts to guess a commonly used password.\n",
      "Incorrect password. You have 4 attempts left.\n",
      "Incorrect password. You have 3 attempts left.\n",
      "Incorrect password. You have 2 attempts left.\n",
      "Incorrect password. You have 1 attempts left.\n",
      "Incorrect password. You have 0 attempts left.\n",
      "Sorry, You've run out of attempts.\n",
      "Welcome to the Password Guessing Game!\n",
      "You have 5 attempts to guess a commonly used password.\n",
      "Incorrect password. You have 4 attempts left.\n",
      "Incorrect password. You have 3 attempts left.\n",
      "Incorrect password. You have 2 attempts left.\n",
      "Incorrect password. You have 1 attempts left.\n",
      "Incorrect password. You have 0 attempts left.\n",
      "Sorry, You've run out of attempts.\n",
      "Thanks for your time!\n"
     ]
    }
   ],
   "source": [
    "import pandas as pd\n",
    "\n",
    "def load_common_passwords():\n",
    "    \"\"\"\n",
    "    Load common passwords from a CSV file.\n",
    "    \n",
    "    Returns:\n",
    "        list: A list of common passwords.\n",
    "    \"\"\"\n",
    "    try:\n",
    "        df = pd.read_csv(\"common_passwords.csv\")\n",
    "        return df['password'].tolist()\n",
    "    except FileNotFoundError:\n",
    "        print(\"Error: The 'common_passwords.csv' file was not found.\")\n",
    "        return []\n",
    "\n",
    "def password_guessing_game(common_passwords):\n",
    "    \"\"\"\n",
    "    Play a password guessing game.\n",
    "    \"\"\"\n",
    "    attempts = 5\n",
    "    print(\"Welcome to the Password Guessing Game!\")\n",
    "    print(f\"You have {attempts} attempts to guess a commonly used password.\")\n",
    "    \n",
    "    while attempts > 0:\n",
    "        guess = input(\"Enter your password guess: \")\n",
    "        if guess in common_passwords:\n",
    "            print(\"Congratulations! You've guessed a password.\")\n",
    "            return\n",
    "        else:\n",
    "            attempts -= 1\n",
    "            print(f\"Incorrect password. You have {attempts} attempts left.\")\n",
    "            \n",
    "    print(\"Sorry, You've run out of attempts.\")\n",
    "    prompt = input(\"Would you like to restart the game? (Y/N): \")\n",
    "    if prompt.lower() == 'y':\n",
    "        password_guessing_game(common_passwords)\n",
    "    else:\n",
    "        print(\"Thanks for your time!\")\n",
    "\n",
    "def main():\n",
    "    common_passwords = load_common_passwords()\n",
    "    if common_passwords:\n",
    "        password_guessing_game(common_passwords)\n",
    "\n",
    "if __name__ == \"__main__\":\n",
    "    main()\n",
    "    "
   ]
  }
 ],
 "metadata": {
  "kernelspec": {
   "display_name": "Python 3",
   "language": "python",
   "name": "python3"
  },
  "language_info": {
   "codemirror_mode": {
    "name": "ipython",
    "version": 3
   },
   "file_extension": ".py",
   "mimetype": "text/x-python",
   "name": "python",
   "nbconvert_exporter": "python",
   "pygments_lexer": "ipython3",
   "version": "3.11.8"
  },
  "orig_nbformat": 4,
  "vscode": {
   "interpreter": {
    "hash": "aee8b7b246df8f9039afb4144a1f6fd8d2ca17a180786b69acc140d282b71a49"
   }
  }
 },
 "nbformat": 4,
 "nbformat_minor": 2
}
